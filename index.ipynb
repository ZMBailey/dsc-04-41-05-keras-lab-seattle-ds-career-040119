{
 "cells": [
  {
   "cell_type": "markdown",
   "metadata": {},
   "source": [
    "# Keras - Lab\n",
    "\n",
    "## Introduction\n",
    "\n",
    "In this lab you'll once again build a neural network but this time with much less production time since we will be using Keras to do a lot of the heavy lifting building blocks which we coded from hand previously.  Our use case will be classifying Bank complaints.\n",
    "\n",
    "\n",
    "## Objectives\n",
    "\n",
    "You will be able to:\n",
    "* Build a neural network using Keras"
   ]
  },
  {
   "cell_type": "markdown",
   "metadata": {},
   "source": [
    "## Loading Required Packages\n",
    "\n",
    "Here we'll import all of the various packages that we'll use in this code along. We'll point out where these imports were used as they come up in the lab."
   ]
  },
  {
   "cell_type": "code",
   "execution_count": 1,
   "metadata": {},
   "outputs": [
    {
     "name": "stderr",
     "output_type": "stream",
     "text": [
      "Using TensorFlow backend.\n"
     ]
    }
   ],
   "source": [
    "import matplotlib.pyplot as plt\n",
    "import pandas as pd\n",
    "import numpy as np\n",
    "import random\n",
    "from sklearn.model_selection import train_test_split\n",
    "from keras.utils.np_utils import to_categorical\n",
    "from sklearn import preprocessing\n",
    "from keras.preprocessing.text import Tokenizer\n",
    "from keras import models\n",
    "from keras import layers\n",
    "from keras import optimizers"
   ]
  },
  {
   "cell_type": "markdown",
   "metadata": {},
   "source": [
    "## Loading the data\n",
    "\n",
    "As usual, we will start our data science process by importing the data itself.  \n",
    "Load and preview as a pandas dataframe.   \n",
    "The data is stored in a file **Bank_complaints.csv**."
   ]
  },
  {
   "cell_type": "code",
   "execution_count": 2,
   "metadata": {},
   "outputs": [
    {
     "data": {
      "text/html": [
       "<div>\n",
       "<style scoped>\n",
       "    .dataframe tbody tr th:only-of-type {\n",
       "        vertical-align: middle;\n",
       "    }\n",
       "\n",
       "    .dataframe tbody tr th {\n",
       "        vertical-align: top;\n",
       "    }\n",
       "\n",
       "    .dataframe thead th {\n",
       "        text-align: right;\n",
       "    }\n",
       "</style>\n",
       "<table border=\"1\" class=\"dataframe\">\n",
       "  <thead>\n",
       "    <tr style=\"text-align: right;\">\n",
       "      <th></th>\n",
       "      <th>Product</th>\n",
       "      <th>Consumer complaint narrative</th>\n",
       "    </tr>\n",
       "  </thead>\n",
       "  <tbody>\n",
       "    <tr>\n",
       "      <th>0</th>\n",
       "      <td>Student loan</td>\n",
       "      <td>In XX/XX/XXXX I filled out the Fedlaon applica...</td>\n",
       "    </tr>\n",
       "    <tr>\n",
       "      <th>1</th>\n",
       "      <td>Student loan</td>\n",
       "      <td>I am being contacted by a debt collector for p...</td>\n",
       "    </tr>\n",
       "    <tr>\n",
       "      <th>2</th>\n",
       "      <td>Student loan</td>\n",
       "      <td>I cosigned XXXX student loans at SallieMae for...</td>\n",
       "    </tr>\n",
       "    <tr>\n",
       "      <th>3</th>\n",
       "      <td>Student loan</td>\n",
       "      <td>Navient has sytematically and illegally failed...</td>\n",
       "    </tr>\n",
       "    <tr>\n",
       "      <th>4</th>\n",
       "      <td>Student loan</td>\n",
       "      <td>My wife became eligible for XXXX Loan Forgiven...</td>\n",
       "    </tr>\n",
       "  </tbody>\n",
       "</table>\n",
       "</div>"
      ],
      "text/plain": [
       "        Product                       Consumer complaint narrative\n",
       "0  Student loan  In XX/XX/XXXX I filled out the Fedlaon applica...\n",
       "1  Student loan  I am being contacted by a debt collector for p...\n",
       "2  Student loan  I cosigned XXXX student loans at SallieMae for...\n",
       "3  Student loan  Navient has sytematically and illegally failed...\n",
       "4  Student loan  My wife became eligible for XXXX Loan Forgiven..."
      ]
     },
     "execution_count": 2,
     "metadata": {},
     "output_type": "execute_result"
    }
   ],
   "source": [
    "df = pd.read_csv('Bank_complaints.csv')\n",
    "df.head()\n",
    "#import pandas as pd #As reference; already imported above"
   ]
  },
  {
   "cell_type": "markdown",
   "metadata": {},
   "source": [
    "## Further Preview of the Categories\n",
    "\n",
    "As we said, our task here is to categorize banking complaints into various predefined categories. Preview what these categories are and what percent of the complaints each accounts for."
   ]
  },
  {
   "cell_type": "code",
   "execution_count": 6,
   "metadata": {},
   "outputs": [
    {
     "data": {
      "text/plain": [
       "Student loan                   0.190067\n",
       "Credit card                    0.159000\n",
       "Consumer Loan                  0.157900\n",
       "Mortgage                       0.138867\n",
       "Bank account or service        0.138483\n",
       "Credit reporting               0.114400\n",
       "Checking or savings account    0.101283\n",
       "Name: Product, dtype: float64"
      ]
     },
     "execution_count": 6,
     "metadata": {},
     "output_type": "execute_result"
    }
   ],
   "source": [
    "df.Product.value_counts(normalize=True)"
   ]
  },
  {
   "cell_type": "markdown",
   "metadata": {},
   "source": [
    "## Preprocessing\n",
    "\n",
    "Before we build our neural network, we need to do several preprocessing steps. First, we will create word vector counts (a bag of words type representation) of our complaints text. Next, we will change the category labels to integers. Finally, we will perform our usual train-test split before building and training our neural network using Keras. With that, let's start munging our data!"
   ]
  },
  {
   "cell_type": "markdown",
   "metadata": {},
   "source": [
    "## One-hot encoding of the complaints\n",
    "\n",
    "Our first step again is to transform our textual data into a numerical representation. As we've started to see in some of our previous lessons on NLP, there are many ways to do this. Here, we'll use the `Tokenizer` method from the `preprocessing` module of the Keras package.   \n",
    "\n",
    "As with our previous work using NLTK, this will transform our text complaints into word vectors. (Note that the method of creating a vector is different from our previous work with NLTK; as you'll see, word order will be preserved as oppossed to a bag of words representation. In the below code, we'll only keep the 2,000 most common words and use one-hot encoding.\n",
    "\n",
    "Note that the code block below takes advantage of the following package import from our first code cell above.  \n",
    "`from keras.preprocessing.text import Tokenizer`"
   ]
  },
  {
   "cell_type": "code",
   "execution_count": 7,
   "metadata": {},
   "outputs": [],
   "source": [
    "#As a quick preliminary, briefly review the docstring for the Keras.preprocessing.text.Tokenizer method:\n",
    "Tokenizer?"
   ]
  },
  {
   "cell_type": "code",
   "execution_count": 8,
   "metadata": {},
   "outputs": [
    {
     "name": "stdout",
     "output_type": "stream",
     "text": [
      "sequences type: <class 'list'>\n",
      "one_hot_results type: <class 'numpy.ndarray'>\n",
      "Found 50110 unique tokens.\n",
      "Dimensions of our coded results: (60000, 2000)\n"
     ]
    }
   ],
   "source": [
    "#Now onto the actual code recipe...\n",
    "complaints = df[\"Consumer complaint narrative\"] #Our raw text complaints\n",
    "\n",
    "tokenizer = Tokenizer(num_words=2000) #Initialize a tokenizer.\n",
    "\n",
    "tokenizer.fit_on_texts(complaints) #Fit it to the complaints\n",
    "\n",
    "sequences = tokenizer.texts_to_sequences(complaints) #Generate sequences\n",
    "print('sequences type:', type(sequences))\n",
    "\n",
    "one_hot_results= tokenizer.texts_to_matrix(complaints, mode='binary') #Similar to sequences, but returns a numpy array\n",
    "print('one_hot_results type:', type(one_hot_results))\n",
    "\n",
    "word_index = tokenizer.word_index #Useful if we wish to decode (more explanation below)\n",
    "\n",
    "print('Found %s unique tokens.' % len(word_index)) #Tokens are the number of unique words across the corpus\n",
    "\n",
    "\n",
    "print('Dimensions of our coded results:', np.shape(one_hot_results)) #Our coded data"
   ]
  },
  {
   "cell_type": "markdown",
   "metadata": {},
   "source": [
    "## Decoding our Word Vectors\n",
    "As a note, you can also decode these vectorized representations of the reviews. The `word_index` variable, defined above, stores the mapping from the label number to the actual word. Somewhat tediously, we can turn this dictionary inside out and map it back to our word vectors, giving us roughly the original complaint back. (As you'll see, the text won't be identical as we limited ourselves to 200 words.)"
   ]
  },
  {
   "cell_type": "markdown",
   "metadata": {},
   "source": [
    "## Python Review / Mini Challenge\n",
    "\n",
    "While a bit tangential to our main topic of interest, we need to reverse our current dictionary `word_index` which maps words from our corpus to integers. In decoding our one_hot_results, we will need to create a dictionary of these integers to the original words. Below, take the `word_index` dictionary object and change the orientation so that the values are keys and the keys values. In other words, you are transforming something of the form {A:1, B:2, C:3} to {1:A, 2:B, 3:C}"
   ]
  },
  {
   "cell_type": "code",
   "execution_count": 10,
   "metadata": {},
   "outputs": [],
   "source": [
    "#Your code here\n",
    "reverse_index = {v : k for k,v in word_index.items()}"
   ]
  },
  {
   "cell_type": "markdown",
   "metadata": {},
   "source": [
    "## Back to Decoding Our Word Vectors..."
   ]
  },
  {
   "cell_type": "code",
   "execution_count": 11,
   "metadata": {},
   "outputs": [
    {
     "name": "stdout",
     "output_type": "stream",
     "text": [
      "Original complaint text:\n",
      "I have already filed several complaints about AES/PHEAA. I was notified by a XXXX XXXX let @ XXXX, who pretended to be from your office, he said he was from CFPB. I found out this morning he is n't from your office, but is actually works at XXXX. \n",
      "\n",
      "This has wasted weeks of my time. They AES/PHEAA confirmed and admitted ( see attached transcript of XXXX, conversation at XXXX ( XXXX ) with XXXX that proves they verified the loans are not mine ) the student loans they had XXXX, and collected on, and reported negate credit reporting in my name are in fact, not mine. \n",
      "They conclued their investigation on XXXX admitting they made a mistake and have my name on soneone elses loans. I these XXXX loans total {$10000.00}, original amount. My XXXX loans I got was total {$3500.00}. We proved by providing AES/PHEAA, this with my original promissary notes I located recently, the XXXX of my college provided AES/PHEAA with their original shoeinf amounts of my XXXX loans which show different dates and amounts, the dates and amounts are not even close to matching these loans they have in my name, The original lender, XXXX XXXX Bank notifying AES/PHEAA, they never issued me a student loan, and original Loan Guarantor, XXXX, notifying AES/PHEAA, they never were guarantor of my loans. \n",
      "\n",
      "XXXX straight forward. But today, this person, XXXX XXXX, told me they know these loans are not mine, and they refuse to remove my name off these XXXX loan 's and correct their mistake, essentially forcing me to pay these loans off, bucause in XXXX they sold the loans to XXXX loans. \n",
      "\n",
      "This is absurd, first protruding to be this office, and then refusing to correct their mistake. \n",
      "\n",
      "Please for the love of XXXX will soneone from your office call me at XXXX, today. I am a XXXX vet and they are knowingly discriminating against me. \n",
      "Pretending to be you.\n",
      "\n",
      "\n",
      "\n",
      "Decoded review from Tokenizer:\n",
      "i have already filed several complaints about aes i was notified by a xxxx xxxx let xxxx who to be from your office he said he was from cfpb i found out this morning he is n't from your office but is actually works at xxxx this has weeks of my time they aes confirmed and admitted see attached of xxxx conversation at xxxx xxxx with xxxx that they verified the loans are not mine the student loans they had xxxx and on and reported credit reporting in my name are in fact not mine they their investigation on xxxx they made a mistake and have my name on loans i these xxxx loans total 10000 00 original amount my xxxx loans i got was total 00 we by providing aes this with my original notes i located recently the xxxx of my college provided aes with their original amounts of my xxxx loans which show different dates and amounts the dates and amounts are not even close to these loans they have in my name the original lender xxxx xxxx bank notifying aes they never issued me a student loan and original loan xxxx notifying aes they never were of my loans xxxx forward but today this person xxxx xxxx told me they know these loans are not mine and they refuse to remove my name off these xxxx loan 's and correct their mistake essentially me to pay these loans off in xxxx they sold the loans to xxxx loans this is first to be this office and then refusing to correct their mistake please for the of xxxx will from your office call me at xxxx today i am a xxxx and they are against me to be you\n"
     ]
    }
   ],
   "source": [
    "comment_idx_to_preview = 19\n",
    "print('Original complaint text:')\n",
    "print(complaints[comment_idx_to_preview])\n",
    "print('\\n\\n')\n",
    "\n",
    "#The reverse_index cell block above must be complete in order for this cell block to successively execute.\n",
    "decoded_review = ' '.join([reverse_index.get(i) for i in sequences[comment_idx_to_preview]])\n",
    "print('Decoded review from Tokenizer:')\n",
    "print(decoded_review)"
   ]
  },
  {
   "cell_type": "markdown",
   "metadata": {},
   "source": [
    "## Convert the Products to Numerical Categories\n",
    "\n",
    "On to step two of our preprocessing: converting our descriptive categories into integers."
   ]
  },
  {
   "cell_type": "code",
   "execution_count": 12,
   "metadata": {},
   "outputs": [
    {
     "name": "stdout",
     "output_type": "stream",
     "text": [
      "Original class labels:\n",
      "['Bank account or service', 'Checking or savings account', 'Consumer Loan', 'Credit card', 'Credit reporting', 'Mortgage', 'Student loan']\n",
      "\n",
      "\n",
      "New product labels:\n",
      "[6 6 6 ... 4 4 4]\n",
      "\n",
      "\n",
      "One hot labels; 7 binary columns, one for each of the categories.\n",
      "[[0. 0. 0. ... 0. 0. 1.]\n",
      " [0. 0. 0. ... 0. 0. 1.]\n",
      " [0. 0. 0. ... 0. 0. 1.]\n",
      " ...\n",
      " [0. 0. 0. ... 1. 0. 0.]\n",
      " [0. 0. 0. ... 1. 0. 0.]\n",
      " [0. 0. 0. ... 1. 0. 0.]]\n",
      "\n",
      "\n",
      "One hot labels shape:\n",
      "(60000, 7)\n"
     ]
    }
   ],
   "source": [
    "product = df[\"Product\"]\n",
    "\n",
    "le = preprocessing.LabelEncoder() #Initialize. le used as abbreviation fo label encoder\n",
    "le.fit(product)\n",
    "print(\"Original class labels:\")\n",
    "print(list(le.classes_))\n",
    "print('\\n')\n",
    "product_cat = le.transform(product)  \n",
    "#list(le.inverse_transform([0, 1, 3, 3, 0, 6, 4])) #If you wish to retrieve the original descriptive labels post production\n",
    "\n",
    "print('New product labels:')\n",
    "print(product_cat)\n",
    "print('\\n')\n",
    "\n",
    "\n",
    "print('One hot labels; 7 binary columns, one for each of the categories.') #Each row will be all zeros except for the category for that observation.\n",
    "product_onehot = to_categorical(product_cat)\n",
    "print(product_onehot)\n",
    "print('\\n')\n",
    "\n",
    "print('One hot labels shape:')\n",
    "print(np.shape(product_onehot))"
   ]
  },
  {
   "cell_type": "markdown",
   "metadata": {},
   "source": [
    "## Train - test split\n",
    "\n",
    "Now for our final preprocessing step: the usual train-test split."
   ]
  },
  {
   "cell_type": "code",
   "execution_count": 13,
   "metadata": {},
   "outputs": [
    {
     "name": "stdout",
     "output_type": "stream",
     "text": [
      "Test label shape: (1500, 7)\n",
      "Train label shape: (58500, 7)\n",
      "Test shape: (1500, 2000)\n",
      "Train shape: (58500, 2000)\n"
     ]
    }
   ],
   "source": [
    "import random\n",
    "random.seed(123)\n",
    "test_index = random.sample(range(1,10000), 1500)\n",
    "\n",
    "test = one_hot_results[test_index]\n",
    "train = np.delete(one_hot_results, test_index, 0)\n",
    "\n",
    "\n",
    "label_test = product_onehot[test_index]\n",
    "label_train = np.delete(product_onehot, test_index, 0)\n",
    "\n",
    "print(\"Test label shape:\", np.shape(label_test))\n",
    "print(\"Train label shape:\", np.shape(label_train))\n",
    "print(\"Test shape:\", np.shape(test))\n",
    "print(\"Train shape:\", np.shape(train))"
   ]
  },
  {
   "cell_type": "markdown",
   "metadata": {},
   "source": [
    "## Building the network"
   ]
  },
  {
   "cell_type": "markdown",
   "metadata": {},
   "source": [
    "Let's build a fully connected (Dense) layer network with relu activations in Keras. You can do this using: `Dense(16, activation='relu')`."
   ]
  },
  {
   "cell_type": "markdown",
   "metadata": {},
   "source": [
    "In this examples, use 2 hidden with 50 units in the first layer and 25 in the second, both with a `relu` activation function. Because we are dealing with a multiclass problem (classifying the complaints into 7 ), we use a use a softmax classifyer in order to output 7 class probabilities per case.  \n",
    "\n",
    "The previous imports that you'll use here are:  \n",
    "\n",
    "```from keras import models\n",
    "from keras import layers```"
   ]
  },
  {
   "cell_type": "code",
   "execution_count": 14,
   "metadata": {},
   "outputs": [],
   "source": [
    "#Your code here; initialize a sequential model with 3 layers; \n",
    "#two hidden relu and the final classification output using softmax\n",
    "model = models.Sequential()\n",
    "model.add(layers.Dense(50, activation='relu', input_shape=(2000,)))\n",
    "model.add(layers.Dense(25, activation='relu'))\n",
    "model.add(layers.Dense(7, activation='softmax'))"
   ]
  },
  {
   "cell_type": "markdown",
   "metadata": {},
   "source": [
    "## Compiling the model and look at the results\n",
    "\n",
    "Now, compile the model! This time, use `'categorical_crossentropy'` as the loss function and stochastic gradient descent, `'SGD'` as the optimizer. As in the previous lesson, include the accuracy as a metric."
   ]
  },
  {
   "cell_type": "code",
   "execution_count": 16,
   "metadata": {},
   "outputs": [],
   "source": [
    "model.compile(optimizer='SGD',\n",
    "             loss='categorical_crossentropy',\n",
    "             metrics=['accuracy'])"
   ]
  },
  {
   "cell_type": "markdown",
   "metadata": {},
   "source": [
    "## Training the model\n",
    "\n",
    "In the compiler, you'll be passing the optimizer (SGD = stochastic gradient descent), loss function, and metrics. Train the model for 120 epochs in mini-batches of 256 samples."
   ]
  },
  {
   "cell_type": "code",
   "execution_count": 17,
   "metadata": {},
   "outputs": [
    {
     "name": "stdout",
     "output_type": "stream",
     "text": [
      "Epoch 1/120\n",
      "58500/58500 [==============================] - 1s 23us/step - loss: 1.8924 - acc: 0.2342\n",
      "Epoch 2/120\n",
      "58500/58500 [==============================] - 1s 23us/step - loss: 1.6471 - acc: 0.4785\n",
      "Epoch 3/120\n",
      "58500/58500 [==============================] - 1s 23us/step - loss: 1.2718 - acc: 0.6276\n",
      "Epoch 4/120\n",
      "58500/58500 [==============================] - 1s 24us/step - loss: 0.9887 - acc: 0.6884\n",
      "Epoch 5/120\n",
      "58500/58500 [==============================] - 1s 25us/step - loss: 0.8325 - acc: 0.7158\n",
      "Epoch 6/120\n",
      "58500/58500 [==============================] - 1s 24us/step - loss: 0.7468 - acc: 0.7316\n",
      "Epoch 7/120\n",
      "58500/58500 [==============================] - 2s 26us/step - loss: 0.6955 - acc: 0.7443\n",
      "Epoch 8/120\n",
      "58500/58500 [==============================] - 1s 23us/step - loss: 0.6608 - acc: 0.7547\n",
      "Epoch 9/120\n",
      "58500/58500 [==============================] - 1s 24us/step - loss: 0.6357 - acc: 0.7629\n",
      "Epoch 10/120\n",
      "58500/58500 [==============================] - 2s 28us/step - loss: 0.6156 - acc: 0.7703\n",
      "Epoch 11/120\n",
      "58500/58500 [==============================] - 2s 26us/step - loss: 0.5992 - acc: 0.7761\n",
      "Epoch 12/120\n",
      "58500/58500 [==============================] - 1s 24us/step - loss: 0.5852 - acc: 0.7821\n",
      "Epoch 13/120\n",
      "58500/58500 [==============================] - 1s 24us/step - loss: 0.5728 - acc: 0.7876\n",
      "Epoch 14/120\n",
      "58500/58500 [==============================] - 1s 23us/step - loss: 0.5622 - acc: 0.7921\n",
      "Epoch 15/120\n",
      "58500/58500 [==============================] - 1s 25us/step - loss: 0.5522 - acc: 0.7967\n",
      "Epoch 16/120\n",
      "58500/58500 [==============================] - 2s 26us/step - loss: 0.5432 - acc: 0.7999\n",
      "Epoch 17/120\n",
      "58500/58500 [==============================] - 1s 25us/step - loss: 0.5352 - acc: 0.8032\n",
      "Epoch 18/120\n",
      "58500/58500 [==============================] - 1s 25us/step - loss: 0.5275 - acc: 0.8070\n",
      "Epoch 19/120\n",
      "58500/58500 [==============================] - 1s 24us/step - loss: 0.5201 - acc: 0.8100\n",
      "Epoch 20/120\n",
      "58500/58500 [==============================] - 2s 28us/step - loss: 0.5134 - acc: 0.8128\n",
      "Epoch 21/120\n",
      "58500/58500 [==============================] - 1s 25us/step - loss: 0.5074 - acc: 0.8159\n",
      "Epoch 22/120\n",
      "58500/58500 [==============================] - 1s 24us/step - loss: 0.5018 - acc: 0.8179\n",
      "Epoch 23/120\n",
      "58500/58500 [==============================] - 2s 29us/step - loss: 0.4960 - acc: 0.8208\n",
      "Epoch 24/120\n",
      "58500/58500 [==============================] - 2s 27us/step - loss: 0.4906 - acc: 0.8231\n",
      "Epoch 25/120\n",
      "58500/58500 [==============================] - 1s 24us/step - loss: 0.4859 - acc: 0.8245\n",
      "Epoch 26/120\n",
      "58500/58500 [==============================] - 1s 24us/step - loss: 0.4809 - acc: 0.8272\n",
      "Epoch 27/120\n",
      "58500/58500 [==============================] - 1s 25us/step - loss: 0.4767 - acc: 0.8287\n",
      "Epoch 28/120\n",
      "58500/58500 [==============================] - 1s 25us/step - loss: 0.4724 - acc: 0.8311\n",
      "Epoch 29/120\n",
      "58500/58500 [==============================] - 1s 24us/step - loss: 0.4683 - acc: 0.8323\n",
      "Epoch 30/120\n",
      "58500/58500 [==============================] - 1s 24us/step - loss: 0.4644 - acc: 0.8341\n",
      "Epoch 31/120\n",
      "58500/58500 [==============================] - 1s 24us/step - loss: 0.4609 - acc: 0.8356\n",
      "Epoch 32/120\n",
      "58500/58500 [==============================] - 1s 24us/step - loss: 0.4575 - acc: 0.8361\n",
      "Epoch 33/120\n",
      "58500/58500 [==============================] - 2s 26us/step - loss: 0.4540 - acc: 0.8386\n",
      "Epoch 34/120\n",
      "58500/58500 [==============================] - 1s 24us/step - loss: 0.4510 - acc: 0.8397\n",
      "Epoch 35/120\n",
      "58500/58500 [==============================] - 1s 24us/step - loss: 0.4476 - acc: 0.8400\n",
      "Epoch 36/120\n",
      "58500/58500 [==============================] - 2s 27us/step - loss: 0.4449 - acc: 0.8416\n",
      "Epoch 37/120\n",
      "58500/58500 [==============================] - 2s 27us/step - loss: 0.4417 - acc: 0.8427: 0s - loss: 0.4383 - \n",
      "Epoch 38/120\n",
      "58500/58500 [==============================] - 2s 27us/step - loss: 0.4393 - acc: 0.8441\n",
      "Epoch 39/120\n",
      "58500/58500 [==============================] - 1s 23us/step - loss: 0.4363 - acc: 0.8443\n",
      "Epoch 40/120\n",
      "58500/58500 [==============================] - 1s 25us/step - loss: 0.4339 - acc: 0.8457\n",
      "Epoch 41/120\n",
      "58500/58500 [==============================] - 1s 23us/step - loss: 0.4315 - acc: 0.8466\n",
      "Epoch 42/120\n",
      "58500/58500 [==============================] - 1s 23us/step - loss: 0.4290 - acc: 0.8474\n",
      "Epoch 43/120\n",
      "58500/58500 [==============================] - 1s 23us/step - loss: 0.4268 - acc: 0.8478\n",
      "Epoch 44/120\n",
      "58500/58500 [==============================] - 1s 24us/step - loss: 0.4246 - acc: 0.8495\n",
      "Epoch 45/120\n",
      "58500/58500 [==============================] - 1s 24us/step - loss: 0.4226 - acc: 0.8504\n",
      "Epoch 46/120\n",
      "58500/58500 [==============================] - 1s 25us/step - loss: 0.4201 - acc: 0.8513\n",
      "Epoch 47/120\n",
      "58500/58500 [==============================] - 2s 27us/step - loss: 0.4182 - acc: 0.8518\n",
      "Epoch 48/120\n",
      "58500/58500 [==============================] - 1s 23us/step - loss: 0.4161 - acc: 0.8530\n",
      "Epoch 49/120\n",
      "58500/58500 [==============================] - 1s 23us/step - loss: 0.4143 - acc: 0.8530\n",
      "Epoch 50/120\n",
      "58500/58500 [==============================] - 2s 26us/step - loss: 0.4127 - acc: 0.8536\n",
      "Epoch 51/120\n",
      "58500/58500 [==============================] - 2s 26us/step - loss: 0.4107 - acc: 0.8544\n",
      "Epoch 52/120\n",
      "58500/58500 [==============================] - 2s 26us/step - loss: 0.4090 - acc: 0.8553\n",
      "Epoch 53/120\n",
      "58500/58500 [==============================] - 1s 24us/step - loss: 0.4072 - acc: 0.8555\n",
      "Epoch 54/120\n",
      "58500/58500 [==============================] - 1s 24us/step - loss: 0.4054 - acc: 0.8556\n",
      "Epoch 55/120\n",
      "58500/58500 [==============================] - 1s 25us/step - loss: 0.4038 - acc: 0.8571\n",
      "Epoch 56/120\n",
      "58500/58500 [==============================] - 1s 25us/step - loss: 0.4019 - acc: 0.8569\n",
      "Epoch 57/120\n",
      "58500/58500 [==============================] - 2s 27us/step - loss: 0.4008 - acc: 0.8577\n",
      "Epoch 58/120\n",
      "58500/58500 [==============================] - 1s 25us/step - loss: 0.3990 - acc: 0.8585\n",
      "Epoch 59/120\n",
      "58500/58500 [==============================] - 1s 23us/step - loss: 0.3976 - acc: 0.8589\n",
      "Epoch 60/120\n",
      "58500/58500 [==============================] - 1s 25us/step - loss: 0.3962 - acc: 0.8597\n",
      "Epoch 61/120\n",
      "58500/58500 [==============================] - 2s 26us/step - loss: 0.3947 - acc: 0.8595\n",
      "Epoch 62/120\n",
      "58500/58500 [==============================] - 1s 24us/step - loss: 0.3934 - acc: 0.8608\n",
      "Epoch 63/120\n",
      "58500/58500 [==============================] - 1s 25us/step - loss: 0.3921 - acc: 0.8606\n",
      "Epoch 64/120\n",
      "58500/58500 [==============================] - 2s 29us/step - loss: 0.3905 - acc: 0.8616\n",
      "Epoch 65/120\n",
      "58500/58500 [==============================] - 2s 26us/step - loss: 0.3896 - acc: 0.8609\n",
      "Epoch 66/120\n",
      "58500/58500 [==============================] - 1s 24us/step - loss: 0.3879 - acc: 0.8621\n",
      "Epoch 67/120\n",
      "58500/58500 [==============================] - 1s 24us/step - loss: 0.3866 - acc: 0.8626\n",
      "Epoch 68/120\n",
      "58500/58500 [==============================] - 1s 24us/step - loss: 0.3856 - acc: 0.8634\n",
      "Epoch 69/120\n",
      "58500/58500 [==============================] - 1s 24us/step - loss: 0.3845 - acc: 0.8638\n",
      "Epoch 70/120\n",
      "58500/58500 [==============================] - 1s 24us/step - loss: 0.3829 - acc: 0.8632\n",
      "Epoch 71/120\n",
      "58500/58500 [==============================] - 1s 23us/step - loss: 0.3819 - acc: 0.8638\n",
      "Epoch 72/120\n",
      "58500/58500 [==============================] - 1s 23us/step - loss: 0.3806 - acc: 0.8650\n",
      "Epoch 73/120\n",
      "58500/58500 [==============================] - 1s 24us/step - loss: 0.3795 - acc: 0.8652\n",
      "Epoch 74/120\n",
      "58500/58500 [==============================] - 1s 24us/step - loss: 0.3785 - acc: 0.8660\n",
      "Epoch 75/120\n",
      "58500/58500 [==============================] - 2s 27us/step - loss: 0.3773 - acc: 0.8657\n",
      "Epoch 76/120\n",
      "58500/58500 [==============================] - 1s 24us/step - loss: 0.3766 - acc: 0.8656\n",
      "Epoch 77/120\n",
      "58500/58500 [==============================] - 1s 24us/step - loss: 0.3753 - acc: 0.8668\n",
      "Epoch 78/120\n",
      "58500/58500 [==============================] - 2s 28us/step - loss: 0.3742 - acc: 0.8668\n",
      "Epoch 79/120\n",
      "58500/58500 [==============================] - 2s 26us/step - loss: 0.3731 - acc: 0.8678\n",
      "Epoch 80/120\n",
      "58500/58500 [==============================] - 1s 24us/step - loss: 0.3722 - acc: 0.8674\n",
      "Epoch 81/120\n"
     ]
    },
    {
     "name": "stdout",
     "output_type": "stream",
     "text": [
      "58500/58500 [==============================] - 1s 24us/step - loss: 0.3710 - acc: 0.8684\n",
      "Epoch 82/120\n",
      "58500/58500 [==============================] - 1s 24us/step - loss: 0.3701 - acc: 0.8687\n",
      "Epoch 83/120\n",
      "58500/58500 [==============================] - 1s 24us/step - loss: 0.3692 - acc: 0.8691\n",
      "Epoch 84/120\n",
      "58500/58500 [==============================] - 1s 23us/step - loss: 0.3681 - acc: 0.8693\n",
      "Epoch 85/120\n",
      "58500/58500 [==============================] - 1s 24us/step - loss: 0.3673 - acc: 0.8696\n",
      "Epoch 86/120\n",
      "58500/58500 [==============================] - 1s 24us/step - loss: 0.3666 - acc: 0.8688\n",
      "Epoch 87/120\n",
      "58500/58500 [==============================] - 1s 24us/step - loss: 0.3653 - acc: 0.8700\n",
      "Epoch 88/120\n",
      "58500/58500 [==============================] - 1s 24us/step - loss: 0.3644 - acc: 0.8703\n",
      "Epoch 89/120\n",
      "58500/58500 [==============================] - 2s 26us/step - loss: 0.3635 - acc: 0.8703\n",
      "Epoch 90/120\n",
      "58500/58500 [==============================] - 1s 24us/step - loss: 0.3627 - acc: 0.8714\n",
      "Epoch 91/120\n",
      "58500/58500 [==============================] - 1s 24us/step - loss: 0.3616 - acc: 0.8716\n",
      "Epoch 92/120\n",
      "58500/58500 [==============================] - 2s 28us/step - loss: 0.3608 - acc: 0.8713\n",
      "Epoch 93/120\n",
      "58500/58500 [==============================] - 2s 26us/step - loss: 0.3599 - acc: 0.8720\n",
      "Epoch 94/120\n",
      "58500/58500 [==============================] - 1s 24us/step - loss: 0.3590 - acc: 0.8723\n",
      "Epoch 95/120\n",
      "58500/58500 [==============================] - 1s 24us/step - loss: 0.3584 - acc: 0.8718\n",
      "Epoch 96/120\n",
      "58500/58500 [==============================] - 1s 24us/step - loss: 0.3571 - acc: 0.8731\n",
      "Epoch 97/120\n",
      "58500/58500 [==============================] - 1s 24us/step - loss: 0.3564 - acc: 0.8732\n",
      "Epoch 98/120\n",
      "58500/58500 [==============================] - 1s 24us/step - loss: 0.3556 - acc: 0.8732\n",
      "Epoch 99/120\n",
      "58500/58500 [==============================] - 1s 26us/step - loss: 0.3547 - acc: 0.8740\n",
      "Epoch 100/120\n",
      "58500/58500 [==============================] - 1s 23us/step - loss: 0.3539 - acc: 0.8743\n",
      "Epoch 101/120\n",
      "58500/58500 [==============================] - 1s 23us/step - loss: 0.3530 - acc: 0.8744\n",
      "Epoch 102/120\n",
      "58500/58500 [==============================] - 1s 24us/step - loss: 0.3521 - acc: 0.8740\n",
      "Epoch 103/120\n",
      "58500/58500 [==============================] - 2s 26us/step - loss: 0.3511 - acc: 0.8743\n",
      "Epoch 104/120\n",
      "58500/58500 [==============================] - 1s 24us/step - loss: 0.3506 - acc: 0.8747\n",
      "Epoch 105/120\n",
      "58500/58500 [==============================] - 1s 25us/step - loss: 0.3496 - acc: 0.8756\n",
      "Epoch 106/120\n",
      "58500/58500 [==============================] - 2s 29us/step - loss: 0.3488 - acc: 0.8752\n",
      "Epoch 107/120\n",
      "58500/58500 [==============================] - 2s 26us/step - loss: 0.3480 - acc: 0.8761\n",
      "Epoch 108/120\n",
      "58500/58500 [==============================] - 1s 24us/step - loss: 0.3473 - acc: 0.8759\n",
      "Epoch 109/120\n",
      "58500/58500 [==============================] - 1s 24us/step - loss: 0.3464 - acc: 0.8766\n",
      "Epoch 110/120\n",
      "58500/58500 [==============================] - 1s 25us/step - loss: 0.3454 - acc: 0.8772\n",
      "Epoch 111/120\n",
      "58500/58500 [==============================] - 1s 25us/step - loss: 0.3448 - acc: 0.8773\n",
      "Epoch 112/120\n",
      "58500/58500 [==============================] - 1s 25us/step - loss: 0.3442 - acc: 0.8766\n",
      "Epoch 113/120\n",
      "58500/58500 [==============================] - 1s 24us/step - loss: 0.3435 - acc: 0.8775\n",
      "Epoch 114/120\n",
      "58500/58500 [==============================] - 1s 25us/step - loss: 0.3425 - acc: 0.8775\n",
      "Epoch 115/120\n",
      "58500/58500 [==============================] - 1s 23us/step - loss: 0.3419 - acc: 0.8778\n",
      "Epoch 116/120\n",
      "58500/58500 [==============================] - 2s 27us/step - loss: 0.3411 - acc: 0.8785\n",
      "Epoch 117/120\n",
      "58500/58500 [==============================] - 1s 24us/step - loss: 0.3404 - acc: 0.8786\n",
      "Epoch 118/120\n",
      "58500/58500 [==============================] - 1s 24us/step - loss: 0.3396 - acc: 0.8788\n",
      "Epoch 119/120\n",
      "58500/58500 [==============================] - 2s 26us/step - loss: 0.3389 - acc: 0.8794\n",
      "Epoch 120/120\n",
      "58500/58500 [==============================] - 2s 26us/step - loss: 0.3380 - acc: 0.8788\n"
     ]
    }
   ],
   "source": [
    "history = model.fit(train,\n",
    "                   label_train,\n",
    "                   epochs=120,\n",
    "                   batch_size=256)"
   ]
  },
  {
   "cell_type": "markdown",
   "metadata": {},
   "source": [
    "Recall that the dictionary `history` has two entries: the loss and the accuracy achieved using the training set."
   ]
  },
  {
   "cell_type": "code",
   "execution_count": 18,
   "metadata": {},
   "outputs": [
    {
     "data": {
      "text/plain": [
       "dict_keys(['loss', 'acc'])"
      ]
     },
     "execution_count": 18,
     "metadata": {},
     "output_type": "execute_result"
    }
   ],
   "source": [
    "history_dict = history.history\n",
    "history_dict.keys()"
   ]
  },
  {
   "cell_type": "markdown",
   "metadata": {},
   "source": [
    "## Plot the results\n",
    "\n",
    "As you might expect, we'll use our ```import matplotlib.pyplot as plt``` for graphing. Use the data stored in the history_dict above to plot the loss vs epochs and the accurcay vs epochs."
   ]
  },
  {
   "cell_type": "code",
   "execution_count": null,
   "metadata": {},
   "outputs": [],
   "source": [
    "#Your code here; plot the loss vs the number of epoch\n",
    "loss = history_dict['loss']\n",
    "epochs = range(1, len(loss) + 1)\n",
    "plt.pl"
   ]
  },
  {
   "cell_type": "code",
   "execution_count": null,
   "metadata": {},
   "outputs": [],
   "source": [
    "#Your code here; plot the training accuracy vs the number of epochs"
   ]
  },
  {
   "cell_type": "markdown",
   "metadata": {},
   "source": [
    "It seems like we could just keep on going and accuracy would go up!"
   ]
  },
  {
   "cell_type": "markdown",
   "metadata": {},
   "source": [
    "## Make predictions\n",
    "\n",
    "Finally, it's time to output. Use the method discussed in the previous lesson to output (probability) predictions for the test set."
   ]
  },
  {
   "cell_type": "code",
   "execution_count": null,
   "metadata": {},
   "outputs": [],
   "source": [
    "y_hat_test = #Your code here; Output (probability) predictions for the test set."
   ]
  },
  {
   "cell_type": "markdown",
   "metadata": {},
   "source": [
    "## Evaluate Performance\n",
    "\n",
    "Finally, print the loss and accuracy for both the train and test sets of the final trained model."
   ]
  },
  {
   "cell_type": "code",
   "execution_count": null,
   "metadata": {},
   "outputs": [],
   "source": [
    "#Your code here; print the loss and accuracy for the training set."
   ]
  },
  {
   "cell_type": "code",
   "execution_count": null,
   "metadata": {},
   "outputs": [],
   "source": [
    "#Your code here; print the loss and accuracy for the test set."
   ]
  },
  {
   "cell_type": "markdown",
   "metadata": {},
   "source": [
    "We can see that the training set results are really good (a 89.4% classification accuracy!), but the test set results lag behind. In the next lab. We'll talk a little more about this in the next lecture, and will discuss how we can get better test set results as well!"
   ]
  },
  {
   "cell_type": "markdown",
   "metadata": {},
   "source": [
    "## Additional Resources"
   ]
  },
  {
   "cell_type": "markdown",
   "metadata": {},
   "source": [
    "https://github.com/susanli2016/Machine-Learning-with-Python/blob/master/Consumer_complaints.ipynb"
   ]
  },
  {
   "cell_type": "markdown",
   "metadata": {},
   "source": [
    "https://catalog.data.gov/dataset/consumer-complaint-database"
   ]
  },
  {
   "cell_type": "markdown",
   "metadata": {},
   "source": [
    "## Summary \n",
    "\n",
    "Congratulations! In this lab, you built a neural network with much less production time thanks to the tools provided by Keras! In upcoming lessons and labs we'll continue to investigate further ideas regarding how to tune and refine these models for increased accuracy and performance."
   ]
  }
 ],
 "metadata": {
  "kernelspec": {
   "display_name": "Python 3",
   "language": "python",
   "name": "python3"
  },
  "language_info": {
   "codemirror_mode": {
    "name": "ipython",
    "version": 3
   },
   "file_extension": ".py",
   "mimetype": "text/x-python",
   "name": "python",
   "nbconvert_exporter": "python",
   "pygments_lexer": "ipython3",
   "version": "3.6.6"
  }
 },
 "nbformat": 4,
 "nbformat_minor": 2
}
